{
 "cells": [
  {
   "cell_type": "markdown",
   "metadata": {},
   "source": [
    "## Exploratory Data Analysis (EDA)\n",
    "\n",
    "The goal behind this part is understandig & exploring the data in different perspectives. Out from the studies that will be done on the dataset, we can draw conclusions before building our ML model."
   ]
  },
  {
   "cell_type": "markdown",
   "metadata": {},
   "source": [
    "### Importing Libraries"
   ]
  },
  {
   "cell_type": "code",
   "execution_count": 2,
   "metadata": {},
   "outputs": [],
   "source": [
    "import pandas as pd\n",
    "import numpy as np\n",
    "import matplotlib.pyplot as plt\n",
    "import seaborn as sns\n",
    "%matplotlib inline"
   ]
  },
  {
   "cell_type": "markdown",
   "metadata": {},
   "source": [
    "### Loading Dataset"
   ]
  },
  {
   "cell_type": "code",
   "execution_count": 3,
   "metadata": {},
   "outputs": [
    {
     "data": {
      "text/html": [
       "<div>\n",
       "<style scoped>\n",
       "    .dataframe tbody tr th:only-of-type {\n",
       "        vertical-align: middle;\n",
       "    }\n",
       "\n",
       "    .dataframe tbody tr th {\n",
       "        vertical-align: top;\n",
       "    }\n",
       "\n",
       "    .dataframe thead th {\n",
       "        text-align: right;\n",
       "    }\n",
       "</style>\n",
       "<table border=\"1\" class=\"dataframe\">\n",
       "  <thead>\n",
       "    <tr style=\"text-align: right;\">\n",
       "      <th></th>\n",
       "      <th>age</th>\n",
       "      <th>sex</th>\n",
       "      <th>bmi</th>\n",
       "      <th>children</th>\n",
       "      <th>smoker</th>\n",
       "      <th>region</th>\n",
       "      <th>charges</th>\n",
       "    </tr>\n",
       "  </thead>\n",
       "  <tbody>\n",
       "    <tr>\n",
       "      <th>0</th>\n",
       "      <td>19</td>\n",
       "      <td>female</td>\n",
       "      <td>27.900</td>\n",
       "      <td>0</td>\n",
       "      <td>1</td>\n",
       "      <td>southwest</td>\n",
       "      <td>16885.0</td>\n",
       "    </tr>\n",
       "    <tr>\n",
       "      <th>1</th>\n",
       "      <td>18</td>\n",
       "      <td>male</td>\n",
       "      <td>33.770</td>\n",
       "      <td>1</td>\n",
       "      <td>0</td>\n",
       "      <td>southeast</td>\n",
       "      <td>1726.0</td>\n",
       "    </tr>\n",
       "    <tr>\n",
       "      <th>2</th>\n",
       "      <td>28</td>\n",
       "      <td>male</td>\n",
       "      <td>33.000</td>\n",
       "      <td>3</td>\n",
       "      <td>0</td>\n",
       "      <td>southeast</td>\n",
       "      <td>4449.0</td>\n",
       "    </tr>\n",
       "    <tr>\n",
       "      <th>3</th>\n",
       "      <td>33</td>\n",
       "      <td>male</td>\n",
       "      <td>22.705</td>\n",
       "      <td>0</td>\n",
       "      <td>0</td>\n",
       "      <td>northwest</td>\n",
       "      <td>21984.0</td>\n",
       "    </tr>\n",
       "    <tr>\n",
       "      <th>4</th>\n",
       "      <td>32</td>\n",
       "      <td>male</td>\n",
       "      <td>28.880</td>\n",
       "      <td>0</td>\n",
       "      <td>0</td>\n",
       "      <td>northwest</td>\n",
       "      <td>3867.0</td>\n",
       "    </tr>\n",
       "  </tbody>\n",
       "</table>\n",
       "</div>"
      ],
      "text/plain": [
       "   age     sex     bmi  children  smoker     region  charges\n",
       "0   19  female  27.900         0       1  southwest  16885.0\n",
       "1   18    male  33.770         1       0  southeast   1726.0\n",
       "2   28    male  33.000         3       0  southeast   4449.0\n",
       "3   33    male  22.705         0       0  northwest  21984.0\n",
       "4   32    male  28.880         0       0  northwest   3867.0"
      ]
     },
     "execution_count": 3,
     "metadata": {},
     "output_type": "execute_result"
    }
   ],
   "source": [
    "all_data = pd.read_csv('../Data Cleaning/cleaned_data.csv')\n",
    "all_data.head()"
   ]
  },
  {
   "cell_type": "code",
   "execution_count": 4,
   "metadata": {},
   "outputs": [
    {
     "data": {
      "text/plain": [
       "(1338, 7)"
      ]
     },
     "execution_count": 4,
     "metadata": {},
     "output_type": "execute_result"
    }
   ],
   "source": [
    "all_data.shape"
   ]
  },
  {
   "cell_type": "markdown",
   "metadata": {},
   "source": [
    "### Correlation"
   ]
  },
  {
   "cell_type": "code",
   "execution_count": 5,
   "metadata": {},
   "outputs": [
    {
     "data": {
      "text/html": [
       "<div>\n",
       "<style scoped>\n",
       "    .dataframe tbody tr th:only-of-type {\n",
       "        vertical-align: middle;\n",
       "    }\n",
       "\n",
       "    .dataframe tbody tr th {\n",
       "        vertical-align: top;\n",
       "    }\n",
       "\n",
       "    .dataframe thead th {\n",
       "        text-align: right;\n",
       "    }\n",
       "</style>\n",
       "<table border=\"1\" class=\"dataframe\">\n",
       "  <thead>\n",
       "    <tr style=\"text-align: right;\">\n",
       "      <th></th>\n",
       "      <th>age</th>\n",
       "      <th>bmi</th>\n",
       "      <th>children</th>\n",
       "      <th>smoker</th>\n",
       "      <th>charges</th>\n",
       "    </tr>\n",
       "  </thead>\n",
       "  <tbody>\n",
       "    <tr>\n",
       "      <th>age</th>\n",
       "      <td>1.000000</td>\n",
       "      <td>0.109272</td>\n",
       "      <td>0.042469</td>\n",
       "      <td>-0.025019</td>\n",
       "      <td>0.299009</td>\n",
       "    </tr>\n",
       "    <tr>\n",
       "      <th>bmi</th>\n",
       "      <td>0.109272</td>\n",
       "      <td>1.000000</td>\n",
       "      <td>0.012759</td>\n",
       "      <td>0.003750</td>\n",
       "      <td>0.198341</td>\n",
       "    </tr>\n",
       "    <tr>\n",
       "      <th>children</th>\n",
       "      <td>0.042469</td>\n",
       "      <td>0.012759</td>\n",
       "      <td>1.000000</td>\n",
       "      <td>0.007673</td>\n",
       "      <td>0.067997</td>\n",
       "    </tr>\n",
       "    <tr>\n",
       "      <th>smoker</th>\n",
       "      <td>-0.025019</td>\n",
       "      <td>0.003750</td>\n",
       "      <td>0.007673</td>\n",
       "      <td>1.000000</td>\n",
       "      <td>0.787251</td>\n",
       "    </tr>\n",
       "    <tr>\n",
       "      <th>charges</th>\n",
       "      <td>0.299009</td>\n",
       "      <td>0.198341</td>\n",
       "      <td>0.067997</td>\n",
       "      <td>0.787251</td>\n",
       "      <td>1.000000</td>\n",
       "    </tr>\n",
       "  </tbody>\n",
       "</table>\n",
       "</div>"
      ],
      "text/plain": [
       "               age       bmi  children    smoker   charges\n",
       "age       1.000000  0.109272  0.042469 -0.025019  0.299009\n",
       "bmi       0.109272  1.000000  0.012759  0.003750  0.198341\n",
       "children  0.042469  0.012759  1.000000  0.007673  0.067997\n",
       "smoker   -0.025019  0.003750  0.007673  1.000000  0.787251\n",
       "charges   0.299009  0.198341  0.067997  0.787251  1.000000"
      ]
     },
     "execution_count": 5,
     "metadata": {},
     "output_type": "execute_result"
    }
   ],
   "source": [
    "all_data.corr()"
   ]
  },
  {
   "cell_type": "code",
   "execution_count": 6,
   "metadata": {},
   "outputs": [
    {
     "data": {
      "text/plain": [
       "<AxesSubplot:>"
      ]
     },
     "execution_count": 6,
     "metadata": {},
     "output_type": "execute_result"
    },
    {
     "data": {
      "image/png": "[encoded data removed]",
      "text/plain": [
       "<Figure size 432x288 with 2 Axes>"
      ]
     },
     "metadata": {
      "needs_background": "light"
     },
     "output_type": "display_data"
    }
   ],
   "source": [
    "cmap = sns.diverging_palette(230, 20, as_cmap=True)\n",
    "\n",
    "sns.heatmap(all_data.corr(), cmap = cmap, vmax=1, center=0,\n",
    "            square=True, linewidths=.5, cbar_kws={\"shrink\": .5})"
   ]
  },
  {
   "cell_type": "markdown",
   "metadata": {},
   "source": [
    "Obviously, there is a correlation between (age, charges) & (smoker, charges)"
   ]
  },
  {
   "cell_type": "markdown",
   "metadata": {},
   "source": [
    "### Exploring the Distribution of Sex & Smoker Among the Data"
   ]
  },
  {
   "cell_type": "code",
   "execution_count": 7,
   "metadata": {},
   "outputs": [
    {
     "data": {
      "image/png": "[encoded data removed]",
      "text/plain": [
       "<Figure size 1440x504 with 2 Axes>"
      ]
     },
     "metadata": {
      "needs_background": "light"
     },
     "output_type": "display_data"
    }
   ],
   "source": [
    "fig, ax = plt.subplots(nrows=1, ncols=2, figsize=(20,7))\n",
    "\n",
    "sns.countplot(x='sex',data=all_data,ax=ax[0])\n",
    "sns.countplot(x='smoker',data=all_data,ax=ax[1])\n",
    "\n",
    "plt.show()"
   ]
  },
  {
   "cell_type": "markdown",
   "metadata": {},
   "source": [
    "As you can see, in the first figure we have a kind of equilibrium between female and male. In contrast, in the second figure the number of non-smokers is approximately about 4x the number of smokers.\n",
    "\n",
    "Idea To Be Implemented:\n",
    "\n",
    "We can add some privileges or customized offers to non-smokers so we can make an advantage of their noticeable number.\n",
    "\n",
    "Example:\n",
    "\n",
    "Adding a free gym membership offer in \"X\" gym, so in this way you can grab more non-smokers customers to your health insurance company. "
   ]
  },
  {
   "cell_type": "markdown",
   "metadata": {},
   "source": [
    "### Visualize Some  Features"
   ]
  },
  {
   "cell_type": "code",
   "execution_count": 8,
   "metadata": {},
   "outputs": [
    {
     "data": {
      "image/png": "[encoded data removed]",
      "text/plain": [
       "<Figure size 1080x1080 with 4 Axes>"
      ]
     },
     "metadata": {
      "needs_background": "light"
     },
     "output_type": "display_data"
    }
   ],
   "source": [
    "all_data[['age',  'bmi', 'children', 'charges']].hist(figsize=(15,15), color='lightblue')\n",
    "plt.show()"
   ]
  },
  {
   "cell_type": "markdown",
   "metadata": {},
   "source": [
    "Age:\n",
    "\n",
    "Customers of age between 19 & 22 are the dominant part among the rest of customers, the rest of age ranges are approximately of the same number with small differences. We can consider ages between 19 & 22 as university students, so in this way we can increase marketing among universities to grab as much young people as we can.\n",
    "\n",
    "Bmi:\n",
    "\n",
    "Follows a normal distribution.\n",
    "\n",
    "Children:\n",
    "\n",
    "Apparently, people with no children are the highest.\n",
    "\n",
    "Charges:\n",
    "\n",
    "We can see that the small portion of customers have the highest charges among others."
   ]
  },
  {
   "cell_type": "markdown",
   "metadata": {},
   "source": [
    "### Grouping Different Features WRT Charges"
   ]
  },
  {
   "cell_type": "code",
   "execution_count": 9,
   "metadata": {},
   "outputs": [
    {
     "name": "stdout",
     "output_type": "stream",
     "text": [
      "sex\n",
      "female    12569.58\n",
      "male      13956.73\n",
      "Name: charges, dtype: float64\n",
      "smoker\n",
      "0     8434.26\n",
      "1    32050.23\n",
      "Name: charges, dtype: float64\n",
      "region\n",
      "northeast    13406.35\n",
      "northwest    12417.58\n",
      "southeast    14735.41\n",
      "southwest    12346.93\n",
      "Name: charges, dtype: float64\n"
     ]
    }
   ],
   "source": [
    "features = [\"sex\", \"smoker\", \"region\"]\n",
    "\n",
    "for ft in features:\n",
    "    info = all_data.groupby(ft)[\"charges\"].mean().round(2)\n",
    "    print(info)"
   ]
  },
  {
   "cell_type": "markdown",
   "metadata": {},
   "source": [
    "Smokers have a charge way higher than non-smokers, which totally makes sense since smokers will pay more for life insurance than non-smokers due to the increased health risks of smoking, while for sex and region, all their different values are close to each other. "
   ]
  },
  {
   "cell_type": "markdown",
   "metadata": {},
   "source": [
    "### Discovering How Cost Varies WRT Age"
   ]
  },
  {
   "cell_type": "code",
   "execution_count": 10,
   "metadata": {},
   "outputs": [
    {
     "data": {
      "text/plain": [
       "<matplotlib.collections.PathCollection at 0x1d566222dc0>"
      ]
     },
     "execution_count": 10,
     "metadata": {},
     "output_type": "execute_result"
    },
    {
     "data": {
      "image/png": "[encoded data removed]",
      "text/plain": [
       "<Figure size 864x576 with 1 Axes>"
      ]
     },
     "metadata": {
      "needs_background": "light"
     },
     "output_type": "display_data"
    }
   ],
   "source": [
    "x = all_data[\"age\"]\n",
    "y = all_data[\"charges\"]\n",
    "\n",
    "plt.figure(figsize=(12,8))\n",
    "plt.title('Cost Variation With Respect To Age')\n",
    "plt.ylabel('Charge')\n",
    "plt.xlabel('Age')\n",
    "#plt.xticks(x,rotation='vertical')\n",
    "\n",
    "cost_wrt_age_fig = plt.scatter(x, y, s = 5)\n",
    "cost_wrt_age_fig"
   ]
  },
  {
   "cell_type": "markdown",
   "metadata": {},
   "source": [
    "We can conclude that older customers charged with a higher cost."
   ]
  },
  {
   "cell_type": "markdown",
   "metadata": {},
   "source": [
    "p"
   ]
  },
  {
   "cell_type": "code",
   "execution_count": 14,
   "metadata": {},
   "outputs": [
    {
     "data": {
      "text/html": [
       "<div>\n",
       "<style scoped>\n",
       "    .dataframe tbody tr th:only-of-type {\n",
       "        vertical-align: middle;\n",
       "    }\n",
       "\n",
       "    .dataframe tbody tr th {\n",
       "        vertical-align: top;\n",
       "    }\n",
       "\n",
       "    .dataframe thead th {\n",
       "        text-align: right;\n",
       "    }\n",
       "</style>\n",
       "<table border=\"1\" class=\"dataframe\">\n",
       "  <thead>\n",
       "    <tr style=\"text-align: right;\">\n",
       "      <th></th>\n",
       "      <th>age</th>\n",
       "      <th>bmi</th>\n",
       "    </tr>\n",
       "    <tr>\n",
       "      <th>charges</th>\n",
       "      <th></th>\n",
       "      <th></th>\n",
       "    </tr>\n",
       "  </thead>\n",
       "  <tbody>\n",
       "    <tr>\n",
       "      <th>63770.0</th>\n",
       "      <td>54.0</td>\n",
       "      <td>47.410</td>\n",
       "    </tr>\n",
       "    <tr>\n",
       "      <th>62593.0</th>\n",
       "      <td>45.0</td>\n",
       "      <td>30.360</td>\n",
       "    </tr>\n",
       "    <tr>\n",
       "      <th>60021.0</th>\n",
       "      <td>52.0</td>\n",
       "      <td>34.485</td>\n",
       "    </tr>\n",
       "    <tr>\n",
       "      <th>58571.0</th>\n",
       "      <td>31.0</td>\n",
       "      <td>38.095</td>\n",
       "    </tr>\n",
       "    <tr>\n",
       "      <th>55135.0</th>\n",
       "      <td>33.0</td>\n",
       "      <td>35.530</td>\n",
       "    </tr>\n",
       "    <tr>\n",
       "      <th>...</th>\n",
       "      <td>...</td>\n",
       "      <td>...</td>\n",
       "    </tr>\n",
       "    <tr>\n",
       "      <th>1141.0</th>\n",
       "      <td>18.0</td>\n",
       "      <td>37.290</td>\n",
       "    </tr>\n",
       "    <tr>\n",
       "      <th>1137.0</th>\n",
       "      <td>18.0</td>\n",
       "      <td>34.265</td>\n",
       "    </tr>\n",
       "    <tr>\n",
       "      <th>1136.0</th>\n",
       "      <td>18.0</td>\n",
       "      <td>33.495</td>\n",
       "    </tr>\n",
       "    <tr>\n",
       "      <th>1132.0</th>\n",
       "      <td>18.0</td>\n",
       "      <td>30.140</td>\n",
       "    </tr>\n",
       "    <tr>\n",
       "      <th>1122.0</th>\n",
       "      <td>18.0</td>\n",
       "      <td>23.210</td>\n",
       "    </tr>\n",
       "  </tbody>\n",
       "</table>\n",
       "<p>1294 rows × 2 columns</p>\n",
       "</div>"
      ],
      "text/plain": [
       "          age     bmi\n",
       "charges              \n",
       "63770.0  54.0  47.410\n",
       "62593.0  45.0  30.360\n",
       "60021.0  52.0  34.485\n",
       "58571.0  31.0  38.095\n",
       "55135.0  33.0  35.530\n",
       "...       ...     ...\n",
       "1141.0   18.0  37.290\n",
       "1137.0   18.0  34.265\n",
       "1136.0   18.0  33.495\n",
       "1132.0   18.0  30.140\n",
       "1122.0   18.0  23.210\n",
       "\n",
       "[1294 rows x 2 columns]"
      ]
     },
     "execution_count": 14,
     "metadata": {},
     "output_type": "execute_result"
    }
   ],
   "source": [
    "pd.pivot_table(all_data, index=\"charges\", values=[\"age\", \"bmi\"]).sort_values(\"charges\", ascending=False)"
   ]
  },
  {
   "cell_type": "code",
   "execution_count": 17,
   "metadata": {},
   "outputs": [
    {
     "data": {
      "text/html": [
       "<div>\n",
       "<style scoped>\n",
       "    .dataframe tbody tr th:only-of-type {\n",
       "        vertical-align: middle;\n",
       "    }\n",
       "\n",
       "    .dataframe tbody tr th {\n",
       "        vertical-align: top;\n",
       "    }\n",
       "\n",
       "    .dataframe thead th {\n",
       "        text-align: right;\n",
       "    }\n",
       "</style>\n",
       "<table border=\"1\" class=\"dataframe\">\n",
       "  <thead>\n",
       "    <tr style=\"text-align: right;\">\n",
       "      <th></th>\n",
       "      <th></th>\n",
       "      <th></th>\n",
       "      <th>charges</th>\n",
       "    </tr>\n",
       "    <tr>\n",
       "      <th>smoker</th>\n",
       "      <th>age</th>\n",
       "      <th>bmi</th>\n",
       "      <th></th>\n",
       "    </tr>\n",
       "  </thead>\n",
       "  <tbody>\n",
       "    <tr>\n",
       "      <th rowspan=\"5\" valign=\"top\">1</th>\n",
       "      <th>54</th>\n",
       "      <th>47.410</th>\n",
       "      <td>63770.0</td>\n",
       "    </tr>\n",
       "    <tr>\n",
       "      <th>45</th>\n",
       "      <th>30.360</th>\n",
       "      <td>62593.0</td>\n",
       "    </tr>\n",
       "    <tr>\n",
       "      <th>52</th>\n",
       "      <th>34.485</th>\n",
       "      <td>60021.0</td>\n",
       "    </tr>\n",
       "    <tr>\n",
       "      <th>31</th>\n",
       "      <th>38.095</th>\n",
       "      <td>58571.0</td>\n",
       "    </tr>\n",
       "    <tr>\n",
       "      <th>33</th>\n",
       "      <th>35.530</th>\n",
       "      <td>55135.0</td>\n",
       "    </tr>\n",
       "    <tr>\n",
       "      <th>...</th>\n",
       "      <th>...</th>\n",
       "      <th>...</th>\n",
       "      <td>...</td>\n",
       "    </tr>\n",
       "    <tr>\n",
       "      <th rowspan=\"5\" valign=\"top\">0</th>\n",
       "      <th rowspan=\"5\" valign=\"top\">18</th>\n",
       "      <th>34.100</th>\n",
       "      <td>1137.0</td>\n",
       "    </tr>\n",
       "    <tr>\n",
       "      <th>33.330</th>\n",
       "      <td>1136.0</td>\n",
       "    </tr>\n",
       "    <tr>\n",
       "      <th>33.660</th>\n",
       "      <td>1136.0</td>\n",
       "    </tr>\n",
       "    <tr>\n",
       "      <th>30.140</th>\n",
       "      <td>1132.0</td>\n",
       "    </tr>\n",
       "    <tr>\n",
       "      <th>23.210</th>\n",
       "      <td>1122.0</td>\n",
       "    </tr>\n",
       "  </tbody>\n",
       "</table>\n",
       "<p>1309 rows × 1 columns</p>\n",
       "</div>"
      ],
      "text/plain": [
       "                   charges\n",
       "smoker age bmi            \n",
       "1      54  47.410  63770.0\n",
       "       45  30.360  62593.0\n",
       "       52  34.485  60021.0\n",
       "       31  38.095  58571.0\n",
       "       33  35.530  55135.0\n",
       "...                    ...\n",
       "0      18  34.100   1137.0\n",
       "           33.330   1136.0\n",
       "           33.660   1136.0\n",
       "           30.140   1132.0\n",
       "           23.210   1122.0\n",
       "\n",
       "[1309 rows x 1 columns]"
      ]
     },
     "execution_count": 17,
     "metadata": {},
     "output_type": "execute_result"
    }
   ],
   "source": [
    "pd.pivot_table(all_data, index=[ \"smoker\", \"age\", \"bmi\"], values=[\"charges\"]).sort_values(\"charges\", ascending = False)"
   ]
  },
  {
   "cell_type": "code",
   "execution_count": 86,
   "metadata": {},
   "outputs": [],
   "source": [
    "# group_sex_smoker_region_against_charges = all_data.groupby([\"sex\",\"smoker\",\"region\"])[\"charges\"].mean().round(2)\n",
    "# group_sex_smoker_region_against_charges\n",
    "\n",
    "#group_sex_smoker_region_against_charges.plot(kind=\"bar\", figsize=(15,7), color='lightblue')"
   ]
  }
 ],
 "metadata": {
  "interpreter": {
   "hash": "374be8c39ae01ff66328729506a9b9a7ba9eb3f2df141c8f3098ad96d8cc6bdd"
  },
  "kernelspec": {
   "display_name": "Python 3.9.7 ('base')",
   "language": "python",
   "name": "python3"
  },
  "language_info": {
   "codemirror_mode": {
    "name": "ipython",
    "version": 3
   },
   "file_extension": ".py",
   "mimetype": "text/x-python",
   "name": "python",
   "nbconvert_exporter": "python",
   "pygments_lexer": "ipython3",
   "version": "3.9.7"
  },
  "orig_nbformat": 4
 },
 "nbformat": 4,
 "nbformat_minor": 2
}
